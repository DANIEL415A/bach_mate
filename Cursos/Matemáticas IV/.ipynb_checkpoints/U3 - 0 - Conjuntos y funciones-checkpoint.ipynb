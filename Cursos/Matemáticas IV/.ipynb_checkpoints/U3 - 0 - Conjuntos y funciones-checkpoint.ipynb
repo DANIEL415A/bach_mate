{
 "cells": [
  {
   "cell_type": "markdown",
   "metadata": {},
   "source": [
    "# Ejemplos de conjuntos y funciones"
   ]
  },
  {
   "cell_type": "markdown",
   "metadata": {},
   "source": [
    "Primero hay que definir un par de conjuntos."
   ]
  },
  {
   "cell_type": "code",
   "execution_count": 1,
   "metadata": {},
   "outputs": [],
   "source": [
    "A=['Iván','Aldair','Alexa'] #Ud. y su bro/sis\n",
    "B=['naranja','plátano','fresa','manzana'] #Frutas en la Mercé"
   ]
  },
  {
   "cell_type": "markdown",
   "metadata": {},
   "source": [
    "Luego programamos una función para calcular la potencia de un conjunto."
   ]
  },
  {
   "cell_type": "code",
   "execution_count": 2,
   "metadata": {},
   "outputs": [],
   "source": [
    "def powerset(seq):\n",
    "    \"\"\"\n",
    "    Función generadora de todos los subconjuntos de una lista.\n",
    "    type(seq)=list\n",
    "    \"\"\"\n",
    "    if len(seq) <= 1:\n",
    "        yield seq\n",
    "        yield []\n",
    "    else:\n",
    "        for item in powerset(seq[1:]):\n",
    "            yield [seq[0]]+item\n",
    "            yield item"
   ]
  },
  {
   "cell_type": "markdown",
   "metadata": {},
   "source": [
    "$\\mathcal{P}(A)$: el conjunto de los subconjuntos de $A$."
   ]
  },
  {
   "cell_type": "code",
   "execution_count": 3,
   "metadata": {},
   "outputs": [
    {
     "name": "stdout",
     "output_type": "stream",
     "text": [
      "1 : {'Alexa', 'Iván', 'Aldair'}\n",
      "2 : {'Alexa', 'Aldair'}\n",
      "3 : {'Alexa', 'Iván'}\n",
      "4 : {'Alexa'}\n",
      "5 : {'Iván', 'Aldair'}\n",
      "6 : {'Aldair'}\n",
      "7 : {'Iván'}\n",
      "8 : set()\n"
     ]
    }
   ],
   "source": [
    "a=powerset(A)\n",
    "j=0\n",
    "for i in a:\n",
    "    j+=1\n",
    "    print(j,':',set(i))"
   ]
  },
  {
   "cell_type": "markdown",
   "metadata": {},
   "source": [
    "$B\\times A$: El producto cartesiano de $B$ con $A$."
   ]
  },
  {
   "cell_type": "code",
   "execution_count": 4,
   "metadata": {},
   "outputs": [
    {
     "name": "stdout",
     "output_type": "stream",
     "text": [
      "('naranja', 'Iván')\n",
      "('naranja', 'Aldair')\n",
      "('naranja', 'Alexa')\n",
      "('plátano', 'Iván')\n",
      "('plátano', 'Aldair')\n",
      "('plátano', 'Alexa')\n",
      "('fresa', 'Iván')\n",
      "('fresa', 'Aldair')\n",
      "('fresa', 'Alexa')\n",
      "('manzana', 'Iván')\n",
      "('manzana', 'Aldair')\n",
      "('manzana', 'Alexa')\n"
     ]
    }
   ],
   "source": [
    "for i in B:\n",
    "    for j in A:\n",
    "        print((i,j))"
   ]
  },
  {
   "cell_type": "markdown",
   "metadata": {},
   "source": [
    "$A\\times B$: El producto cartesiano de $A$ con $B$."
   ]
  },
  {
   "cell_type": "code",
   "execution_count": 5,
   "metadata": {},
   "outputs": [
    {
     "name": "stdout",
     "output_type": "stream",
     "text": [
      "('Iván', 'naranja')\n",
      "('Iván', 'plátano')\n",
      "('Iván', 'fresa')\n",
      "('Iván', 'manzana')\n",
      "('Aldair', 'naranja')\n",
      "('Aldair', 'plátano')\n",
      "('Aldair', 'fresa')\n",
      "('Aldair', 'manzana')\n",
      "('Alexa', 'naranja')\n",
      "('Alexa', 'plátano')\n",
      "('Alexa', 'fresa')\n",
      "('Alexa', 'manzana')\n"
     ]
    }
   ],
   "source": [
    "for i in A:\n",
    "    for j in B:\n",
    "        print((i,j))"
   ]
  },
  {
   "cell_type": "markdown",
   "metadata": {},
   "source": [
    "$\\text{Hom}_{\\text{Set}}(A,B)$: El conjunto de funciones de $A$ en $B$."
   ]
  },
  {
   "cell_type": "code",
   "execution_count": 9,
   "metadata": {
    "scrolled": false
   },
   "outputs": [
    {
     "name": "stdout",
     "output_type": "stream",
     "text": [
      "1 : {('Aldair', 'manzana'), ('Alexa', 'manzana'), ('Iván', 'manzana')}\n",
      "2 : {('Alexa', 'manzana'), ('Aldair', 'manzana'), ('Iván', 'fresa')}\n",
      "3 : {('Aldair', 'manzana'), ('Iván', 'plátano'), ('Alexa', 'manzana')}\n",
      "4 : {('Alexa', 'manzana'), ('Aldair', 'manzana'), ('Iván', 'naranja')}\n",
      "5 : {('Aldair', 'fresa'), ('Alexa', 'manzana'), ('Iván', 'manzana')}\n",
      "6 : {('Aldair', 'fresa'), ('Iván', 'fresa'), ('Alexa', 'manzana')}\n",
      "7 : {('Aldair', 'fresa'), ('Iván', 'plátano'), ('Alexa', 'manzana')}\n",
      "8 : {('Aldair', 'fresa'), ('Iván', 'naranja'), ('Alexa', 'manzana')}\n",
      "9 : {('Alexa', 'manzana'), ('Aldair', 'plátano'), ('Iván', 'manzana')}\n",
      "10 : {('Alexa', 'manzana'), ('Iván', 'fresa'), ('Aldair', 'plátano')}\n",
      "11 : {('Iván', 'plátano'), ('Alexa', 'manzana'), ('Aldair', 'plátano')}\n",
      "12 : {('Alexa', 'manzana'), ('Iván', 'naranja'), ('Aldair', 'plátano')}\n",
      "13 : {('Aldair', 'naranja'), ('Alexa', 'manzana'), ('Iván', 'manzana')}\n",
      "14 : {('Aldair', 'naranja'), ('Iván', 'fresa'), ('Alexa', 'manzana')}\n",
      "15 : {('Aldair', 'naranja'), ('Iván', 'plátano'), ('Alexa', 'manzana')}\n",
      "16 : {('Aldair', 'naranja'), ('Iván', 'naranja'), ('Alexa', 'manzana')}\n",
      "17 : {('Alexa', 'fresa'), ('Aldair', 'manzana'), ('Iván', 'manzana')}\n",
      "18 : {('Alexa', 'fresa'), ('Aldair', 'manzana'), ('Iván', 'fresa')}\n",
      "19 : {('Alexa', 'fresa'), ('Aldair', 'manzana'), ('Iván', 'plátano')}\n",
      "20 : {('Alexa', 'fresa'), ('Aldair', 'manzana'), ('Iván', 'naranja')}\n",
      "21 : {('Aldair', 'fresa'), ('Alexa', 'fresa'), ('Iván', 'manzana')}\n",
      "22 : {('Aldair', 'fresa'), ('Alexa', 'fresa'), ('Iván', 'fresa')}\n",
      "23 : {('Aldair', 'fresa'), ('Alexa', 'fresa'), ('Iván', 'plátano')}\n",
      "24 : {('Aldair', 'fresa'), ('Alexa', 'fresa'), ('Iván', 'naranja')}\n",
      "25 : {('Alexa', 'fresa'), ('Aldair', 'plátano'), ('Iván', 'manzana')}\n",
      "26 : {('Alexa', 'fresa'), ('Iván', 'fresa'), ('Aldair', 'plátano')}\n",
      "27 : {('Alexa', 'fresa'), ('Iván', 'plátano'), ('Aldair', 'plátano')}\n",
      "28 : {('Alexa', 'fresa'), ('Iván', 'naranja'), ('Aldair', 'plátano')}\n",
      "29 : {('Aldair', 'naranja'), ('Alexa', 'fresa'), ('Iván', 'manzana')}\n",
      "30 : {('Aldair', 'naranja'), ('Alexa', 'fresa'), ('Iván', 'fresa')}\n",
      "31 : {('Aldair', 'naranja'), ('Alexa', 'fresa'), ('Iván', 'plátano')}\n",
      "32 : {('Aldair', 'naranja'), ('Alexa', 'fresa'), ('Iván', 'naranja')}\n",
      "33 : {('Alexa', 'plátano'), ('Aldair', 'manzana'), ('Iván', 'manzana')}\n",
      "34 : {('Alexa', 'plátano'), ('Aldair', 'manzana'), ('Iván', 'fresa')}\n",
      "35 : {('Alexa', 'plátano'), ('Aldair', 'manzana'), ('Iván', 'plátano')}\n",
      "36 : {('Alexa', 'plátano'), ('Aldair', 'manzana'), ('Iván', 'naranja')}\n",
      "37 : {('Aldair', 'fresa'), ('Alexa', 'plátano'), ('Iván', 'manzana')}\n",
      "38 : {('Aldair', 'fresa'), ('Iván', 'fresa'), ('Alexa', 'plátano')}\n",
      "39 : {('Aldair', 'fresa'), ('Iván', 'plátano'), ('Alexa', 'plátano')}\n",
      "40 : {('Aldair', 'fresa'), ('Iván', 'naranja'), ('Alexa', 'plátano')}\n",
      "41 : {('Alexa', 'plátano'), ('Aldair', 'plátano'), ('Iván', 'manzana')}\n",
      "42 : {('Alexa', 'plátano'), ('Iván', 'fresa'), ('Aldair', 'plátano')}\n",
      "43 : {('Alexa', 'plátano'), ('Iván', 'plátano'), ('Aldair', 'plátano')}\n",
      "44 : {('Alexa', 'plátano'), ('Iván', 'naranja'), ('Aldair', 'plátano')}\n",
      "45 : {('Aldair', 'naranja'), ('Alexa', 'plátano'), ('Iván', 'manzana')}\n",
      "46 : {('Aldair', 'naranja'), ('Iván', 'fresa'), ('Alexa', 'plátano')}\n",
      "47 : {('Aldair', 'naranja'), ('Iván', 'plátano'), ('Alexa', 'plátano')}\n",
      "48 : {('Aldair', 'naranja'), ('Iván', 'naranja'), ('Alexa', 'plátano')}\n",
      "49 : {('Aldair', 'manzana'), ('Alexa', 'naranja'), ('Iván', 'manzana')}\n",
      "50 : {('Aldair', 'manzana'), ('Alexa', 'naranja'), ('Iván', 'fresa')}\n",
      "51 : {('Aldair', 'manzana'), ('Iván', 'plátano'), ('Alexa', 'naranja')}\n",
      "52 : {('Aldair', 'manzana'), ('Alexa', 'naranja'), ('Iván', 'naranja')}\n",
      "53 : {('Aldair', 'fresa'), ('Alexa', 'naranja'), ('Iván', 'manzana')}\n",
      "54 : {('Aldair', 'fresa'), ('Alexa', 'naranja'), ('Iván', 'fresa')}\n",
      "55 : {('Aldair', 'fresa'), ('Iván', 'plátano'), ('Alexa', 'naranja')}\n",
      "56 : {('Aldair', 'fresa'), ('Alexa', 'naranja'), ('Iván', 'naranja')}\n",
      "57 : {('Alexa', 'naranja'), ('Aldair', 'plátano'), ('Iván', 'manzana')}\n",
      "58 : {('Alexa', 'naranja'), ('Iván', 'fresa'), ('Aldair', 'plátano')}\n",
      "59 : {('Iván', 'plátano'), ('Alexa', 'naranja'), ('Aldair', 'plátano')}\n",
      "60 : {('Alexa', 'naranja'), ('Iván', 'naranja'), ('Aldair', 'plátano')}\n",
      "61 : {('Aldair', 'naranja'), ('Alexa', 'naranja'), ('Iván', 'manzana')}\n",
      "62 : {('Aldair', 'naranja'), ('Alexa', 'naranja'), ('Iván', 'fresa')}\n",
      "63 : {('Aldair', 'naranja'), ('Iván', 'plátano'), ('Alexa', 'naranja')}\n",
      "64 : {('Aldair', 'naranja'), ('Alexa', 'naranja'), ('Iván', 'naranja')}\n"
     ]
    }
   ],
   "source": [
    "AxB=[(i,j) for i in A for j in B]\n",
    "RelAB=powerset(AxB)\n",
    "\n",
    "j=0\n",
    "F_AB=[]\n",
    "for i in RelAB:\n",
    "    if len(i)==len(A) and {k[0] for k in i}==set(A):\n",
    "        j+=1\n",
    "        print(j,':',set(i))\n",
    "        F_AB.append(set(i))"
   ]
  },
  {
   "cell_type": "markdown",
   "metadata": {},
   "source": [
    "**¿Cuáles de estas funciones son inyectivas?**"
   ]
  },
  {
   "cell_type": "code",
   "execution_count": 14,
   "metadata": {
    "scrolled": false
   },
   "outputs": [
    {
     "data": {
      "text/plain": [
       "[{('Aldair', 'fresa'), ('Alexa', 'manzana'), ('Iván', 'plátano')},\n",
       " {('Aldair', 'fresa'), ('Alexa', 'manzana'), ('Iván', 'naranja')},\n",
       " {('Aldair', 'plátano'), ('Alexa', 'manzana'), ('Iván', 'fresa')},\n",
       " {('Aldair', 'plátano'), ('Alexa', 'manzana'), ('Iván', 'naranja')},\n",
       " {('Aldair', 'naranja'), ('Alexa', 'manzana'), ('Iván', 'fresa')},\n",
       " {('Aldair', 'naranja'), ('Alexa', 'manzana'), ('Iván', 'plátano')},\n",
       " {('Aldair', 'manzana'), ('Alexa', 'fresa'), ('Iván', 'plátano')},\n",
       " {('Aldair', 'manzana'), ('Alexa', 'fresa'), ('Iván', 'naranja')},\n",
       " {('Aldair', 'plátano'), ('Alexa', 'fresa'), ('Iván', 'manzana')},\n",
       " {('Aldair', 'plátano'), ('Alexa', 'fresa'), ('Iván', 'naranja')},\n",
       " {('Aldair', 'naranja'), ('Alexa', 'fresa'), ('Iván', 'manzana')},\n",
       " {('Aldair', 'naranja'), ('Alexa', 'fresa'), ('Iván', 'plátano')},\n",
       " {('Aldair', 'manzana'), ('Alexa', 'plátano'), ('Iván', 'fresa')},\n",
       " {('Aldair', 'manzana'), ('Alexa', 'plátano'), ('Iván', 'naranja')},\n",
       " {('Aldair', 'fresa'), ('Alexa', 'plátano'), ('Iván', 'manzana')},\n",
       " {('Aldair', 'fresa'), ('Alexa', 'plátano'), ('Iván', 'naranja')},\n",
       " {('Aldair', 'naranja'), ('Alexa', 'plátano'), ('Iván', 'manzana')},\n",
       " {('Aldair', 'naranja'), ('Alexa', 'plátano'), ('Iván', 'fresa')},\n",
       " {('Aldair', 'manzana'), ('Alexa', 'naranja'), ('Iván', 'fresa')},\n",
       " {('Aldair', 'manzana'), ('Alexa', 'naranja'), ('Iván', 'plátano')},\n",
       " {('Aldair', 'fresa'), ('Alexa', 'naranja'), ('Iván', 'manzana')},\n",
       " {('Aldair', 'fresa'), ('Alexa', 'naranja'), ('Iván', 'plátano')},\n",
       " {('Aldair', 'plátano'), ('Alexa', 'naranja'), ('Iván', 'manzana')},\n",
       " {('Aldair', 'plátano'), ('Alexa', 'naranja'), ('Iván', 'fresa')}]"
      ]
     },
     "execution_count": 14,
     "metadata": {},
     "output_type": "execute_result"
    }
   ],
   "source": [
    "In_AB=[f for f in F_AB if len(set(x[1] for x in f))==len(A)]\n",
    "In_AB"
   ]
  },
  {
   "cell_type": "code",
   "execution_count": 15,
   "metadata": {},
   "outputs": [
    {
     "data": {
      "text/plain": [
       "24"
      ]
     },
     "execution_count": 15,
     "metadata": {},
     "output_type": "execute_result"
    }
   ],
   "source": [
    "len(In_AB)"
   ]
  },
  {
   "cell_type": "markdown",
   "metadata": {},
   "source": [
    "$\\text{Hom}_{\\text{Set}}(B,A)$: El conjunto de funciones de $B$ en $A$."
   ]
  },
  {
   "cell_type": "code",
   "execution_count": 7,
   "metadata": {},
   "outputs": [
    {
     "name": "stdout",
     "output_type": "stream",
     "text": [
      "1 : {('uva', 'Gerardo'), ('plátano', 'Gerardo'), ('naranja', 'Gerardo'), ('kiwi', 'Gerardo'), ('fresa', 'Gerardo')}\n",
      "2 : {('uva', 'Gerardo'), ('plátano', 'Gerardo'), ('kiwi', 'Gerardo'), ('naranja', 'Roberto'), ('fresa', 'Gerardo')}\n",
      "3 : {('uva', 'Gerardo'), ('naranja', 'Gerardo'), ('kiwi', 'Gerardo'), ('plátano', 'Roberto'), ('fresa', 'Gerardo')}\n",
      "4 : {('uva', 'Gerardo'), ('kiwi', 'Gerardo'), ('plátano', 'Roberto'), ('naranja', 'Roberto'), ('fresa', 'Gerardo')}\n",
      "5 : {('uva', 'Gerardo'), ('plátano', 'Gerardo'), ('naranja', 'Gerardo'), ('fresa', 'Roberto'), ('kiwi', 'Gerardo')}\n",
      "6 : {('uva', 'Gerardo'), ('plátano', 'Gerardo'), ('fresa', 'Roberto'), ('kiwi', 'Gerardo'), ('naranja', 'Roberto')}\n",
      "7 : {('uva', 'Gerardo'), ('naranja', 'Gerardo'), ('fresa', 'Roberto'), ('kiwi', 'Gerardo'), ('plátano', 'Roberto')}\n",
      "8 : {('uva', 'Gerardo'), ('fresa', 'Roberto'), ('kiwi', 'Gerardo'), ('plátano', 'Roberto'), ('naranja', 'Roberto')}\n",
      "9 : {('uva', 'Gerardo'), ('plátano', 'Gerardo'), ('kiwi', 'Roberto'), ('naranja', 'Gerardo'), ('fresa', 'Gerardo')}\n",
      "10 : {('uva', 'Gerardo'), ('plátano', 'Gerardo'), ('kiwi', 'Roberto'), ('naranja', 'Roberto'), ('fresa', 'Gerardo')}\n",
      "11 : {('uva', 'Gerardo'), ('kiwi', 'Roberto'), ('naranja', 'Gerardo'), ('plátano', 'Roberto'), ('fresa', 'Gerardo')}\n",
      "12 : {('uva', 'Gerardo'), ('kiwi', 'Roberto'), ('plátano', 'Roberto'), ('naranja', 'Roberto'), ('fresa', 'Gerardo')}\n",
      "13 : {('uva', 'Gerardo'), ('plátano', 'Gerardo'), ('kiwi', 'Roberto'), ('naranja', 'Gerardo'), ('fresa', 'Roberto')}\n",
      "14 : {('uva', 'Gerardo'), ('plátano', 'Gerardo'), ('kiwi', 'Roberto'), ('fresa', 'Roberto'), ('naranja', 'Roberto')}\n",
      "15 : {('uva', 'Gerardo'), ('kiwi', 'Roberto'), ('naranja', 'Gerardo'), ('fresa', 'Roberto'), ('plátano', 'Roberto')}\n",
      "16 : {('uva', 'Gerardo'), ('kiwi', 'Roberto'), ('fresa', 'Roberto'), ('plátano', 'Roberto'), ('naranja', 'Roberto')}\n",
      "17 : {('plátano', 'Gerardo'), ('naranja', 'Gerardo'), ('kiwi', 'Gerardo'), ('uva', 'Roberto'), ('fresa', 'Gerardo')}\n",
      "18 : {('plátano', 'Gerardo'), ('kiwi', 'Gerardo'), ('uva', 'Roberto'), ('naranja', 'Roberto'), ('fresa', 'Gerardo')}\n",
      "19 : {('naranja', 'Gerardo'), ('uva', 'Roberto'), ('kiwi', 'Gerardo'), ('plátano', 'Roberto'), ('fresa', 'Gerardo')}\n",
      "20 : {('uva', 'Roberto'), ('kiwi', 'Gerardo'), ('plátano', 'Roberto'), ('naranja', 'Roberto'), ('fresa', 'Gerardo')}\n",
      "21 : {('plátano', 'Gerardo'), ('naranja', 'Gerardo'), ('fresa', 'Roberto'), ('kiwi', 'Gerardo'), ('uva', 'Roberto')}\n",
      "22 : {('plátano', 'Gerardo'), ('fresa', 'Roberto'), ('kiwi', 'Gerardo'), ('uva', 'Roberto'), ('naranja', 'Roberto')}\n",
      "23 : {('naranja', 'Gerardo'), ('fresa', 'Roberto'), ('uva', 'Roberto'), ('kiwi', 'Gerardo'), ('plátano', 'Roberto')}\n",
      "24 : {('fresa', 'Roberto'), ('uva', 'Roberto'), ('kiwi', 'Gerardo'), ('plátano', 'Roberto'), ('naranja', 'Roberto')}\n",
      "25 : {('plátano', 'Gerardo'), ('kiwi', 'Roberto'), ('naranja', 'Gerardo'), ('uva', 'Roberto'), ('fresa', 'Gerardo')}\n",
      "26 : {('plátano', 'Gerardo'), ('kiwi', 'Roberto'), ('uva', 'Roberto'), ('naranja', 'Roberto'), ('fresa', 'Gerardo')}\n",
      "27 : {('kiwi', 'Roberto'), ('naranja', 'Gerardo'), ('uva', 'Roberto'), ('plátano', 'Roberto'), ('fresa', 'Gerardo')}\n",
      "28 : {('kiwi', 'Roberto'), ('uva', 'Roberto'), ('plátano', 'Roberto'), ('naranja', 'Roberto'), ('fresa', 'Gerardo')}\n",
      "29 : {('plátano', 'Gerardo'), ('kiwi', 'Roberto'), ('naranja', 'Gerardo'), ('fresa', 'Roberto'), ('uva', 'Roberto')}\n",
      "30 : {('plátano', 'Gerardo'), ('kiwi', 'Roberto'), ('fresa', 'Roberto'), ('uva', 'Roberto'), ('naranja', 'Roberto')}\n",
      "31 : {('kiwi', 'Roberto'), ('naranja', 'Gerardo'), ('fresa', 'Roberto'), ('uva', 'Roberto'), ('plátano', 'Roberto')}\n",
      "32 : {('kiwi', 'Roberto'), ('fresa', 'Roberto'), ('uva', 'Roberto'), ('plátano', 'Roberto'), ('naranja', 'Roberto')}\n"
     ]
    }
   ],
   "source": [
    "BxA=[(i,j) for i in B for j in A]\n",
    "RelBA=powerset(BxA)\n",
    "\n",
    "j=0\n",
    "for i in RelBA:\n",
    "    if len(i)==len(B) and {k[0] for k in i}==set(B):\n",
    "        j+=1\n",
    "        print(j,':',set(i))"
   ]
  },
  {
   "cell_type": "code",
   "execution_count": null,
   "metadata": {},
   "outputs": [],
   "source": []
  }
 ],
 "metadata": {
  "kernelspec": {
   "display_name": "Python 3",
   "language": "python",
   "name": "python3"
  },
  "language_info": {
   "codemirror_mode": {
    "name": "ipython",
    "version": 3
   },
   "file_extension": ".py",
   "mimetype": "text/x-python",
   "name": "python",
   "nbconvert_exporter": "python",
   "pygments_lexer": "ipython3",
   "version": "3.9.1"
  }
 },
 "nbformat": 4,
 "nbformat_minor": 2
}
